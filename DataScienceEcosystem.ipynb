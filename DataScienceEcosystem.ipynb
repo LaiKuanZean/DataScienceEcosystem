{
 "cells": [
  {
   "cell_type": "markdown",
   "id": "cc8df0e9-4d8e-4fcd-8d7a-7480563733f9",
   "metadata": {},
   "source": [
    "# Data Science Tools and Ecosystem"
   ]
  },
  {
   "cell_type": "markdown",
   "id": "f9f65461-9c41-4a64-8b42-274f622aa4e8",
   "metadata": {},
   "source": [
    "A notebook is an interactive document that combines code, text, visualizations, and mathematical formulas."
   ]
  },
  {
   "cell_type": "markdown",
   "id": "011625d6-afbb-4855-b3d3-2d786a33d707",
   "metadata": {},
   "source": [
    "## Some of the popular languages that Data Scientists use are: \n",
    "1. Python\n",
    "2. R\n",
    "3. SQL"
   ]
  },
  {
   "cell_type": "markdown",
   "id": "030afc9f-bb93-45e9-b51f-8c5da90c9bad",
   "metadata": {},
   "source": [
    "## Some of the commonly used libraries used by Data Scientists include:\n",
    "1. Pandas\n",
    "2. NumPy\n",
    "3. Matplotlib\n",
    "4. SciPy"
   ]
  },
  {
   "cell_type": "markdown",
   "id": "f0484dc8-529b-4f23-8125-dcf1cfe496f6",
   "metadata": {},
   "source": [
    "| Data Science Tools |\n",
    "|--------------------|\n",
    "| Jupyter Notebook   |\n",
    "| RStudio            |\n",
    "| Apache Zeppelin    |\n"
   ]
  },
  {
   "cell_type": "markdown",
   "id": "304fb761-0642-4771-9f65-6692aaefa202",
   "metadata": {},
   "source": [
    "### Below are a few examples of evaluating arithmetic expressions in Python."
   ]
  },
  {
   "cell_type": "code",
   "execution_count": 1,
   "id": "93a931c4-cf58-4fd4-87f0-22d5a42940fd",
   "metadata": {},
   "outputs": [
    {
     "data": {
      "text/plain": [
       "17"
      ]
     },
     "execution_count": 1,
     "metadata": {},
     "output_type": "execute_result"
    }
   ],
   "source": [
    "# This a simple arithmetic expression to mutiply then add integers.\n",
    "result = (3*4) + 5\n",
    "result"
   ]
  },
  {
   "cell_type": "code",
   "execution_count": 2,
   "id": "2ba38705-7bb7-41e7-b6d3-047acc238298",
   "metadata": {},
   "outputs": [
    {
     "data": {
      "text/plain": [
       "3.3333333333333335"
      ]
     },
     "execution_count": 2,
     "metadata": {},
     "output_type": "execute_result"
    }
   ],
   "source": [
    "# This will convert 200 minutes to hours by diving by 60.\n",
    "hours = 200 / 60\n",
    "hours"
   ]
  },
  {
   "cell_type": "markdown",
   "id": "8fbffc4d-8330-4e9c-8378-4856074ea2b0",
   "metadata": {},
   "source": [
    "**Objectives:**\n",
    "\n",
    "- List popular languages for Data Science.\n",
    "- Summarize key data science tools and ecosystems.\n",
    "- Introduce some commonly used development environments.\n",
    "- Understand the importance of open-source tools in data science.\n"
   ]
  },
  {
   "cell_type": "markdown",
   "id": "ead27da1-0bdf-4d63-aff1-7a3683b207b0",
   "metadata": {},
   "source": [
    "## Author\n",
    "\n",
    "Lakshmi Holla  \n",
    "Niveditha Pandith \n",
    "\n",
    "Jenny"
   ]
  },
  {
   "cell_type": "code",
   "execution_count": null,
   "id": "37c5c4fb-3d2d-49cc-8c22-98a4a203dc06",
   "metadata": {},
   "outputs": [],
   "source": []
  }
 ],
 "metadata": {
  "kernelspec": {
   "display_name": "Python 3 (ipykernel)",
   "language": "python",
   "name": "python3"
  },
  "language_info": {
   "codemirror_mode": {
    "name": "ipython",
    "version": 3
   },
   "file_extension": ".py",
   "mimetype": "text/x-python",
   "name": "python",
   "nbconvert_exporter": "python",
   "pygments_lexer": "ipython3",
   "version": "3.11.9"
  }
 },
 "nbformat": 4,
 "nbformat_minor": 5
}
